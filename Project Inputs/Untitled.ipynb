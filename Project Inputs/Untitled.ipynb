{
 "cells": [
  {
   "cell_type": "markdown",
   "id": "9927825c",
   "metadata": {},
   "source": [
    "# Recommended Strategy for Entering into the Movie Industry"
   ]
  },
  {
   "cell_type": "markdown",
   "id": "3b03d42c",
   "metadata": {},
   "source": [
    "# Author: Michael Pozo"
   ]
  },
  {
   "cell_type": "code",
   "execution_count": null,
   "id": "2338832e",
   "metadata": {},
   "outputs": [],
   "source": []
  }
 ],
 "metadata": {
  "kernelspec": {
   "display_name": "Python (learn-env)",
   "language": "python",
   "name": "learn-env"
  },
  "language_info": {
   "codemirror_mode": {
    "name": "ipython",
    "version": 3
   },
   "file_extension": ".py",
   "mimetype": "text/x-python",
   "name": "python",
   "nbconvert_exporter": "python",
   "pygments_lexer": "ipython3",
   "version": "3.8.5"
  }
 },
 "nbformat": 4,
 "nbformat_minor": 5
}
