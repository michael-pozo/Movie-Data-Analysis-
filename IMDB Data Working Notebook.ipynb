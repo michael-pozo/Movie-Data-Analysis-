{
 "cells": [
  {
   "cell_type": "markdown",
   "id": "d8a15520",
   "metadata": {},
   "source": [
    "# Sourcing and Cleaning IMDB Data"
   ]
  },
  {
   "cell_type": "code",
   "execution_count": 2,
   "id": "793c68c1",
   "metadata": {},
   "outputs": [],
   "source": [
    "#import all programs needed\n",
    "import sqlite3\n",
    "import pandas as pd\n",
    "import matplotlib.pyplot as plt\n",
    "import seaborn as sns"
   ]
  },
  {
   "cell_type": "code",
   "execution_count": 3,
   "id": "377dc198",
   "metadata": {},
   "outputs": [],
   "source": [
    "#establish connection to imdb database\n",
    "\n",
    "conn = sqlite3.connect('Phase 1 Project Data/im.db')\n",
    "cursor_obj = conn.cursor()"
   ]
  },
  {
   "cell_type": "code",
   "execution_count": 5,
   "id": "98372465",
   "metadata": {},
   "outputs": [
    {
     "name": "stdout",
     "output_type": "stream",
     "text": [
      "<class 'pandas.core.frame.DataFrame'>\n",
      "RangeIndex: 146144 entries, 0 to 146143\n",
      "Data columns (total 6 columns):\n",
      " #   Column           Non-Null Count   Dtype  \n",
      "---  ------           --------------   -----  \n",
      " 0   movie_id         146144 non-null  object \n",
      " 1   primary_title    146144 non-null  object \n",
      " 2   original_title   146123 non-null  object \n",
      " 3   start_year       146144 non-null  int64  \n",
      " 4   runtime_minutes  114405 non-null  float64\n",
      " 5   genres           140736 non-null  object \n",
      "dtypes: float64(1), int64(1), object(4)\n",
      "memory usage: 6.7+ MB\n"
     ]
    }
   ],
   "source": [
    "#create movie_basics dataframe and examine the data \n",
    "movie_basics_df = pd.read_sql('''\n",
    "    SELECT *\n",
    "    FROM movie_basics\n",
    "    ''', conn)\n",
    "\n",
    "movie_basics_df.info()"
   ]
  },
  {
   "cell_type": "markdown",
   "id": "943ec4ce",
   "metadata": {},
   "source": [
    "Notes on movie_basics: Missing data in the original_title column (<1%), genres (4%) and runtime_minutes (21%). Nulls in title and genre are better to drop, while runtime should be inputed based on mean or median. \n",
    "\n",
    "Data types make sense \n",
    "\n",
    "Genres is a string containing multiple genres. Needs to be split into multiple columns. Possibly use a primary/secondary/tertiary genre structure based on the order it is listed in the string "
   ]
  },
  {
   "cell_type": "code",
   "execution_count": 13,
   "id": "c97ed9fa",
   "metadata": {},
   "outputs": [
    {
     "name": "stdout",
     "output_type": "stream",
     "text": [
      "<class 'pandas.core.frame.DataFrame'>\n",
      "RangeIndex: 73856 entries, 0 to 73855\n",
      "Data columns (total 3 columns):\n",
      " #   Column         Non-Null Count  Dtype  \n",
      "---  ------         --------------  -----  \n",
      " 0   movie_id       73856 non-null  object \n",
      " 1   averagerating  73856 non-null  float64\n",
      " 2   numvotes       73856 non-null  int64  \n",
      "dtypes: float64(1), int64(1), object(1)\n",
      "memory usage: 1.7+ MB\n"
     ]
    }
   ],
   "source": [
    "#create movie_ratings dataframe and examine the data\n",
    "movie_ratings_df = pd.read_sql('''\n",
    "    SELECT *\n",
    "    FROM movie_ratings\n",
    "    ''', conn)\n",
    "\n",
    "movie_ratings_df.info()"
   ]
  },
  {
   "cell_type": "markdown",
   "id": "a129c72b",
   "metadata": {},
   "source": [
    "Notes on movie_rating dataframe: only two columns. Wide range in the number of votes, possibly need to create a minimum vote count to be included in the ratings analysis (mean - 3*std).\n",
    "\n",
    "Possible outliers included. The minimum average rating is more than 3 standard deviations away from the mean. The std of the numvotes column is an order of magnitude greater than the mean.\n",
    "\n",
    "Smaller than the movie_basics dataframe so it would make sense to merge left onto the basics df "
   ]
  },
  {
   "cell_type": "code",
   "execution_count": 15,
   "id": "c5b770f6",
   "metadata": {},
   "outputs": [
    {
     "name": "stdout",
     "output_type": "stream",
     "text": [
      "<class 'pandas.core.frame.DataFrame'>\n",
      "RangeIndex: 291174 entries, 0 to 291173\n",
      "Data columns (total 2 columns):\n",
      " #   Column     Non-Null Count   Dtype \n",
      "---  ------     --------------   ----- \n",
      " 0   movie_id   291174 non-null  object\n",
      " 1   person_id  291174 non-null  object\n",
      "dtypes: object(2)\n",
      "memory usage: 4.4+ MB\n"
     ]
    }
   ],
   "source": [
    "#create director dataframe and examine data\n",
    "director_df = pd.read_sql('''\n",
    "    SELECT *\n",
    "    FROM directors\n",
    "    ''', conn)\n",
    "\n",
    "director_df.info()"
   ]
  },
  {
   "cell_type": "markdown",
   "id": "506691df",
   "metadata": {},
   "source": [
    "Only contains the person_id for the director, if I want names then I will have to merge with the persons dataframe. Otherwise looks good with no null values "
   ]
  },
  {
   "cell_type": "code",
   "execution_count": 16,
   "id": "abc8ac1e",
   "metadata": {},
   "outputs": [
    {
     "name": "stdout",
     "output_type": "stream",
     "text": [
      "<class 'pandas.core.frame.DataFrame'>\n",
      "RangeIndex: 606648 entries, 0 to 606647\n",
      "Data columns (total 5 columns):\n",
      " #   Column              Non-Null Count   Dtype  \n",
      "---  ------              --------------   -----  \n",
      " 0   person_id           606648 non-null  object \n",
      " 1   primary_name        606648 non-null  object \n",
      " 2   birth_year          82736 non-null   float64\n",
      " 3   death_year          6783 non-null    float64\n",
      " 4   primary_profession  555308 non-null  object \n",
      "dtypes: float64(2), object(3)\n",
      "memory usage: 23.1+ MB\n"
     ]
    }
   ],
   "source": [
    "#create persons dataframe and examine data\n",
    "persons_df = pd.read_sql('''\n",
    "    SELECT *\n",
    "    FROM persons\n",
    "    ''', conn)\n",
    "\n",
    "persons_df.info()"
   ]
  },
  {
   "cell_type": "markdown",
   "id": "e32d18ba",
   "metadata": {},
   "source": [
    "Need to concat with directors df in order to create a full list of movie ids with director names "
   ]
  },
  {
   "cell_type": "code",
   "execution_count": 34,
   "id": "f2632057",
   "metadata": {},
   "outputs": [
    {
     "name": "stdout",
     "output_type": "stream",
     "text": [
      "<class 'pandas.core.frame.DataFrame'>\n",
      "Int64Index: 291174 entries, 0 to 291173\n",
      "Data columns (total 6 columns):\n",
      " #   Column              Non-Null Count   Dtype  \n",
      "---  ------              --------------   -----  \n",
      " 0   movie_id            291174 non-null  object \n",
      " 1   person_id           291174 non-null  object \n",
      " 2   primary_name        291171 non-null  object \n",
      " 3   birth_year          68608 non-null   float64\n",
      " 4   death_year          1738 non-null    float64\n",
      " 5   primary_profession  290187 non-null  object \n",
      "dtypes: float64(2), object(4)\n",
      "memory usage: 15.6+ MB\n",
      "<class 'pandas.core.frame.DataFrame'>\n",
      "Int64Index: 140417 entries, 0 to 291173\n",
      "Data columns (total 6 columns):\n",
      " #   Column              Non-Null Count   Dtype  \n",
      "---  ------              --------------   -----  \n",
      " 0   movie_id            140417 non-null  object \n",
      " 1   person_id           140417 non-null  object \n",
      " 2   primary_name        140416 non-null  object \n",
      " 3   birth_year          30609 non-null   float64\n",
      " 4   death_year          856 non-null     float64\n",
      " 5   primary_profession  139887 non-null  object \n",
      "dtypes: float64(2), object(4)\n",
      "memory usage: 7.5+ MB\n"
     ]
    }
   ],
   "source": [
    "#merge director and persons dataframes to create a unified df of director credits with names \n",
    "\n",
    "director_persons_df = pd.merge(director_df, persons_df, how = 'left', on = 'person_id')\n",
    "director_persons_df.info()\n",
    "\n",
    "#remove duplicates before merging with movie_basics_ratings\n",
    "\n",
    "director_persons_df.drop_duplicates(subset = 'movie_id', inplace = True)\n",
    "director_persons_df.info()\n"
   ]
  },
  {
   "cell_type": "code",
   "execution_count": 31,
   "id": "f801d7a5",
   "metadata": {},
   "outputs": [
    {
     "name": "stdout",
     "output_type": "stream",
     "text": [
      "<class 'pandas.core.frame.DataFrame'>\n",
      "Int64Index: 146144 entries, 0 to 146143\n",
      "Data columns (total 8 columns):\n",
      " #   Column           Non-Null Count   Dtype  \n",
      "---  ------           --------------   -----  \n",
      " 0   movie_id         146144 non-null  object \n",
      " 1   primary_title    146144 non-null  object \n",
      " 2   original_title   146123 non-null  object \n",
      " 3   start_year       146144 non-null  int64  \n",
      " 4   runtime_minutes  114405 non-null  float64\n",
      " 5   genres           140736 non-null  object \n",
      " 6   averagerating    73856 non-null   float64\n",
      " 7   numvotes         73856 non-null   float64\n",
      "dtypes: float64(3), int64(1), object(4)\n",
      "memory usage: 10.0+ MB\n"
     ]
    }
   ],
   "source": [
    "#merge movie ratings and movie basics dfs together \n",
    "\n",
    "movie_basics_ratings_df = pd.merge(movie_basics_df, movie_ratings_df, how ='left', on = 'movie_id')\n",
    "movie_basics_ratings_df.info()\n"
   ]
  },
  {
   "cell_type": "code",
   "execution_count": 121,
   "id": "06b1a025",
   "metadata": {},
   "outputs": [],
   "source": [
    "#create final IMDB database by merging movie_basics_ratings_df left onto director_persons_df \n",
    "imdb_df = pd.merge(director_persons_df, movie_basics_ratings_df, how = 'left', on = 'movie_id')"
   ]
  },
  {
   "cell_type": "code",
   "execution_count": 122,
   "id": "1125f09f",
   "metadata": {},
   "outputs": [],
   "source": [
    "#clean up the IMDB dataframe (rename primary name, remove birth year and death year, remove rows with null name, primary profession and genres)\n",
    "imdb_df.rename(columns = {'primary_name':'director_name'}, inplace = True)\n",
    "imdb_df.drop(columns = ['birth_year', 'death_year'], axis = 1, inplace = True)\n",
    "imdb_df.dropna(subset = ['director_name', 'primary_profession', 'original_title', 'genres'], axis = 0, inplace = True)"
   ]
  },
  {
   "cell_type": "code",
   "execution_count": 123,
   "id": "5b7e1f07",
   "metadata": {},
   "outputs": [],
   "source": [
    "#Remove potential duplicate titles by sorting for and removing rows with duplicate titles and directors. Keep the row with highest number of votes\n",
    "imdb_df.sort_values(by = ['primary_title', 'director_name', 'numvotes'], ascending = [True, True, False], inplace = True)\n",
    "imdb_df.drop_duplicates(subset = ['primary_title', 'director_name'], keep = 'first', inplace = True)\n"
   ]
  },
  {
   "cell_type": "code",
   "execution_count": 134,
   "id": "9f0f6e9b",
   "metadata": {},
   "outputs": [
    {
     "name": "stdout",
     "output_type": "stream",
     "text": [
      "<class 'pandas.core.frame.DataFrame'>\n",
      "Int64Index: 136409 entries, 8464 to 72703\n",
      "Data columns (total 11 columns):\n",
      " #   Column              Non-Null Count   Dtype  \n",
      "---  ------              --------------   -----  \n",
      " 0   movie_id            136409 non-null  object \n",
      " 1   person_id           136409 non-null  object \n",
      " 2   director_name       136409 non-null  object \n",
      " 3   primary_profession  136409 non-null  object \n",
      " 4   primary_title       136409 non-null  object \n",
      " 5   original_title      136409 non-null  object \n",
      " 6   start_year          136409 non-null  int64  \n",
      " 7   runtime_minutes     109720 non-null  float64\n",
      " 8   genres              136409 non-null  object \n",
      " 9   averagerating       72345 non-null   float64\n",
      " 10  numvotes            72345 non-null   float64\n",
      "dtypes: float64(3), int64(1), object(7)\n",
      "memory usage: 12.5+ MB\n"
     ]
    }
   ],
   "source": [
    "imdb_df.info()"
   ]
  },
  {
   "cell_type": "markdown",
   "id": "62440324",
   "metadata": {},
   "source": [
    "# Combining IMDB and Budget Data "
   ]
  },
  {
   "cell_type": "code",
   "execution_count": 202,
   "id": "7fbfdc08",
   "metadata": {},
   "outputs": [],
   "source": [
    "budget_df = pd.read_csv('budget_df.csv')"
   ]
  },
  {
   "cell_type": "code",
   "execution_count": 203,
   "id": "3627045d",
   "metadata": {},
   "outputs": [
    {
     "name": "stdout",
     "output_type": "stream",
     "text": [
      "<class 'pandas.core.frame.DataFrame'>\n",
      "Int64Index: 1536 entries, 1 to 7075\n",
      "Data columns (total 23 columns):\n",
      " #   Column              Non-Null Count  Dtype  \n",
      "---  ------              --------------  -----  \n",
      " 0   Unnamed: 0          1536 non-null   int64  \n",
      " 1   id                  1536 non-null   int64  \n",
      " 2   release_date        1536 non-null   object \n",
      " 3   movie               1536 non-null   object \n",
      " 4   production_budget   1536 non-null   int64  \n",
      " 5   domestic_gross      1536 non-null   int64  \n",
      " 6   worldwide_gross     1536 non-null   int64  \n",
      " 7   profit              1536 non-null   int64  \n",
      " 8   release_month       1536 non-null   int64  \n",
      " 9   foreign_gross       1536 non-null   int64  \n",
      " 10  release_year        1536 non-null   int64  \n",
      " 11  ROI                 1536 non-null   float64\n",
      " 12  movie_id            1536 non-null   object \n",
      " 13  person_id           1536 non-null   object \n",
      " 14  director_name       1536 non-null   object \n",
      " 15  primary_profession  1536 non-null   object \n",
      " 16  primary_title       1536 non-null   object \n",
      " 17  original_title      1536 non-null   object \n",
      " 18  start_year          1536 non-null   float64\n",
      " 19  runtime_minutes     1516 non-null   float64\n",
      " 20  genres              1536 non-null   object \n",
      " 21  averagerating       1495 non-null   float64\n",
      " 22  numvotes            1495 non-null   float64\n",
      "dtypes: float64(5), int64(9), object(9)\n",
      "memory usage: 288.0+ KB\n"
     ]
    }
   ],
   "source": [
    "#Merge IMDB with Budget. Create a subset of only movies with matching release years\n",
    "\n",
    "merged_df = budget_df.merge(imdb_df, how = 'left', left_on = 'movie', right_on = 'primary_title')\n",
    "imdb_budget_df = merged_df[merged_df['start_year'] == merged_df['release_year']]\n",
    "imdb_budget_df.info()"
   ]
  },
  {
   "cell_type": "code",
   "execution_count": 204,
   "id": "0dda4cde",
   "metadata": {},
   "outputs": [
    {
     "name": "stderr",
     "output_type": "stream",
     "text": [
      "<ipython-input-204-009832f8539f>:2: SettingWithCopyWarning: \n",
      "A value is trying to be set on a copy of a slice from a DataFrame.\n",
      "Try using .loc[row_indexer,col_indexer] = value instead\n",
      "\n",
      "See the caveats in the documentation: https://pandas.pydata.org/pandas-docs/stable/user_guide/indexing.html#returning-a-view-versus-a-copy\n",
      "  imdb_budget_df['genres'] = imdb_budget_df['genres'].apply(lambda x: str(x).split(','))\n"
     ]
    }
   ],
   "source": [
    "#Separate genres into individual rows\n",
    "imdb_budget_df['genres'] = imdb_budget_df['genres'].apply(lambda x: str(x).split(','))\n",
    "imdb_budget_df = imdb_budget_df.explode('genres')"
   ]
  },
  {
   "cell_type": "markdown",
   "id": "9f509104",
   "metadata": {},
   "source": [
    "# Use imdb_budget to find the most popular genres for peak months "
   ]
  },
  {
   "cell_type": "code",
   "execution_count": 206,
   "id": "38f1c3a7",
   "metadata": {},
   "outputs": [
    {
     "data": {
      "image/png": "[encoded data removed]",
      "text/plain": [
       "<Figure size 432x288 with 1 Axes>"
      ]
     },
     "metadata": {
      "needs_background": "light"
     },
     "output_type": "display_data"
    }
   ],
   "source": [
    "filtered_df = imdb_budget_df.loc[imdb_budget_df['release_month'].isin([6,7,11])]\n",
    "grouped_df = filtered_df.groupby(['genres']).median().sort_values(by=['profit'], ascending=[False]).reset_index()\n",
    "top_5_genres_df = grouped_df.head(5)\n",
    "sns.barplot(x = 'genres', y ='profit', data = top_5_genres_df);"
   ]
  },
  {
   "cell_type": "markdown",
   "id": "3b4f19e1",
   "metadata": {},
   "source": [
    "# Explore Correlation Between Ratings and Profitability  "
   ]
  },
  {
   "cell_type": "code",
   "execution_count": 212,
   "id": "d46b177d",
   "metadata": {},
   "outputs": [
    {
     "data": {
      "text/plain": [
       "<AxesSubplot:xlabel='averagerating', ylabel='profit'>"
      ]
     },
     "execution_count": 212,
     "metadata": {},
     "output_type": "execute_result"
    },
    {
     "data": {
      "image/png": "[encoded data removed]",
      "text/plain": [
       "<Figure size 432x288 with 1 Axes>"
      ]
     },
     "metadata": {
      "needs_background": "light"
     },
     "output_type": "display_data"
    }
   ],
   "source": [
    "imdb_budget_dedupe_df = imdb_budget_df.drop_duplicates(subset = 'primary_title')\n",
    "sns.scatterplot(x = 'averagerating', y = 'profit', data = imdb_budget_dedupe_df)"
   ]
  },
  {
   "cell_type": "code",
   "execution_count": null,
   "id": "df00fa53",
   "metadata": {},
   "outputs": [],
   "source": []
  }
 ],
 "metadata": {
  "kernelspec": {
   "display_name": "Python (learn-env)",
   "language": "python",
   "name": "learn-env"
  },
  "language_info": {
   "codemirror_mode": {
    "name": "ipython",
    "version": 3
   },
   "file_extension": ".py",
   "mimetype": "text/x-python",
   "name": "python",
   "nbconvert_exporter": "python",
   "pygments_lexer": "ipython3",
   "version": "3.8.5"
  }
 },
 "nbformat": 4,
 "nbformat_minor": 5
}
