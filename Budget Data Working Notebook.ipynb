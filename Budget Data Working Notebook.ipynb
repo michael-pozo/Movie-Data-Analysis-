{
 "cells": [
  {
   "cell_type": "code",
   "execution_count": 1,
   "id": "8576f4b7",
   "metadata": {},
   "outputs": [],
   "source": [
    "import pandas as pd\n",
    "import seaborn as sns\n",
    "import matplotlib.pyplot as plt"
   ]
  },
  {
   "cell_type": "code",
   "execution_count": 81,
   "id": "d266a015",
   "metadata": {},
   "outputs": [],
   "source": [
    "budget_df = pd.read_csv('Phase 1 Project Data/tn.movie_budgets.csv')"
   ]
  },
  {
   "cell_type": "code",
   "execution_count": 131,
   "id": "5e1cef99",
   "metadata": {
    "scrolled": false
   },
   "outputs": [
    {
     "name": "stdout",
     "output_type": "stream",
     "text": [
      "<class 'pandas.core.frame.DataFrame'>\n",
      "RangeIndex: 5782 entries, 0 to 5781\n",
      "Data columns (total 9 columns):\n",
      " #   Column             Non-Null Count  Dtype         \n",
      "---  ------             --------------  -----         \n",
      " 0   id                 5782 non-null   int64         \n",
      " 1   release_date       5782 non-null   datetime64[ns]\n",
      " 2   movie              5782 non-null   object        \n",
      " 3   production_budget  5782 non-null   int64         \n",
      " 4   domestic_gross     5782 non-null   int64         \n",
      " 5   worldwide_gross    5782 non-null   int64         \n",
      " 6   profit             5782 non-null   int64         \n",
      " 7   release_month      5782 non-null   int64         \n",
      " 8   foreign_gross      5782 non-null   int64         \n",
      "dtypes: datetime64[ns](1), int64(7), object(1)\n",
      "memory usage: 406.7+ KB\n"
     ]
    }
   ],
   "source": [
    "budget_df.info()"
   ]
  },
  {
   "cell_type": "code",
   "execution_count": 132,
   "id": "13d7252a",
   "metadata": {},
   "outputs": [
    {
     "data": {
      "text/html": [
       "<div>\n",
       "<style scoped>\n",
       "    .dataframe tbody tr th:only-of-type {\n",
       "        vertical-align: middle;\n",
       "    }\n",
       "\n",
       "    .dataframe tbody tr th {\n",
       "        vertical-align: top;\n",
       "    }\n",
       "\n",
       "    .dataframe thead th {\n",
       "        text-align: right;\n",
       "    }\n",
       "</style>\n",
       "<table border=\"1\" class=\"dataframe\">\n",
       "  <thead>\n",
       "    <tr style=\"text-align: right;\">\n",
       "      <th></th>\n",
       "      <th>id</th>\n",
       "      <th>production_budget</th>\n",
       "      <th>domestic_gross</th>\n",
       "      <th>worldwide_gross</th>\n",
       "      <th>profit</th>\n",
       "      <th>release_month</th>\n",
       "      <th>foreign_gross</th>\n",
       "    </tr>\n",
       "  </thead>\n",
       "  <tbody>\n",
       "    <tr>\n",
       "      <th>count</th>\n",
       "      <td>5782.000000</td>\n",
       "      <td>5.782000e+03</td>\n",
       "      <td>5.782000e+03</td>\n",
       "      <td>5.782000e+03</td>\n",
       "      <td>5.782000e+03</td>\n",
       "      <td>5782.000000</td>\n",
       "      <td>5.782000e+03</td>\n",
       "    </tr>\n",
       "    <tr>\n",
       "      <th>mean</th>\n",
       "      <td>50.372363</td>\n",
       "      <td>3.158776e+07</td>\n",
       "      <td>4.187333e+07</td>\n",
       "      <td>9.148746e+07</td>\n",
       "      <td>5.989970e+07</td>\n",
       "      <td>7.050675</td>\n",
       "      <td>4.961413e+07</td>\n",
       "    </tr>\n",
       "    <tr>\n",
       "      <th>std</th>\n",
       "      <td>28.821076</td>\n",
       "      <td>4.181208e+07</td>\n",
       "      <td>6.824060e+07</td>\n",
       "      <td>1.747200e+08</td>\n",
       "      <td>1.460889e+08</td>\n",
       "      <td>3.480147</td>\n",
       "      <td>1.131192e+08</td>\n",
       "    </tr>\n",
       "    <tr>\n",
       "      <th>min</th>\n",
       "      <td>1.000000</td>\n",
       "      <td>1.100000e+03</td>\n",
       "      <td>0.000000e+00</td>\n",
       "      <td>0.000000e+00</td>\n",
       "      <td>-2.002376e+08</td>\n",
       "      <td>1.000000</td>\n",
       "      <td>0.000000e+00</td>\n",
       "    </tr>\n",
       "    <tr>\n",
       "      <th>25%</th>\n",
       "      <td>25.000000</td>\n",
       "      <td>5.000000e+06</td>\n",
       "      <td>1.429534e+06</td>\n",
       "      <td>4.125415e+06</td>\n",
       "      <td>-2.189071e+06</td>\n",
       "      <td>4.000000</td>\n",
       "      <td>0.000000e+00</td>\n",
       "    </tr>\n",
       "    <tr>\n",
       "      <th>50%</th>\n",
       "      <td>50.000000</td>\n",
       "      <td>1.700000e+07</td>\n",
       "      <td>1.722594e+07</td>\n",
       "      <td>2.798445e+07</td>\n",
       "      <td>8.550286e+06</td>\n",
       "      <td>7.000000</td>\n",
       "      <td>5.701766e+06</td>\n",
       "    </tr>\n",
       "    <tr>\n",
       "      <th>75%</th>\n",
       "      <td>75.000000</td>\n",
       "      <td>4.000000e+07</td>\n",
       "      <td>5.234866e+07</td>\n",
       "      <td>9.764584e+07</td>\n",
       "      <td>6.096850e+07</td>\n",
       "      <td>10.000000</td>\n",
       "      <td>4.682110e+07</td>\n",
       "    </tr>\n",
       "    <tr>\n",
       "      <th>max</th>\n",
       "      <td>100.000000</td>\n",
       "      <td>4.250000e+08</td>\n",
       "      <td>9.366622e+08</td>\n",
       "      <td>2.776345e+09</td>\n",
       "      <td>2.351345e+09</td>\n",
       "      <td>12.000000</td>\n",
       "      <td>2.015838e+09</td>\n",
       "    </tr>\n",
       "  </tbody>\n",
       "</table>\n",
       "</div>"
      ],
      "text/plain": [
       "                id  production_budget  domestic_gross  worldwide_gross  \\\n",
       "count  5782.000000       5.782000e+03    5.782000e+03     5.782000e+03   \n",
       "mean     50.372363       3.158776e+07    4.187333e+07     9.148746e+07   \n",
       "std      28.821076       4.181208e+07    6.824060e+07     1.747200e+08   \n",
       "min       1.000000       1.100000e+03    0.000000e+00     0.000000e+00   \n",
       "25%      25.000000       5.000000e+06    1.429534e+06     4.125415e+06   \n",
       "50%      50.000000       1.700000e+07    1.722594e+07     2.798445e+07   \n",
       "75%      75.000000       4.000000e+07    5.234866e+07     9.764584e+07   \n",
       "max     100.000000       4.250000e+08    9.366622e+08     2.776345e+09   \n",
       "\n",
       "             profit  release_month  foreign_gross  \n",
       "count  5.782000e+03    5782.000000   5.782000e+03  \n",
       "mean   5.989970e+07       7.050675   4.961413e+07  \n",
       "std    1.460889e+08       3.480147   1.131192e+08  \n",
       "min   -2.002376e+08       1.000000   0.000000e+00  \n",
       "25%   -2.189071e+06       4.000000   0.000000e+00  \n",
       "50%    8.550286e+06       7.000000   5.701766e+06  \n",
       "75%    6.096850e+07      10.000000   4.682110e+07  \n",
       "max    2.351345e+09      12.000000   2.015838e+09  "
      ]
     },
     "execution_count": 132,
     "metadata": {},
     "output_type": "execute_result"
    }
   ],
   "source": [
    "budget_df.describe()"
   ]
  },
  {
   "cell_type": "markdown",
   "id": "9380e14c",
   "metadata": {},
   "source": [
    "TN seems to be a better dataset compared to BOM since it has more data and has a budget column which will allow you to calculate profit. Also there are no missing values "
   ]
  },
  {
   "cell_type": "code",
   "execution_count": 82,
   "id": "c0523a43",
   "metadata": {},
   "outputs": [],
   "source": [
    "#Convert columns 3-5 into integers.\n",
    "\n",
    "budget_df['production_budget'] = budget_df['production_budget'].str.replace(',','').str.replace('$','').astype(int)\n",
    "budget_df['domestic_gross'] = budget_df['domestic_gross'].str.replace(',','').str.replace('$','').astype(int)\n",
    "budget_df['worldwide_gross'] = budget_df['worldwide_gross'].str.replace(',','').str.replace('$','').astype(int)"
   ]
  },
  {
   "cell_type": "code",
   "execution_count": 141,
   "id": "40459aff",
   "metadata": {},
   "outputs": [],
   "source": [
    "#Create profit column. Split out month from the release date to be used in visualization. \n",
    "\n",
    "budget_df['profit'] = budget_df['worldwide_gross'] - budget_df['production_budget']\n",
    "budget_df['foreign_gross'] = budget_df['worldwide_gross'] - budget_df['domestic_gross']\n",
    "budget_df['ROI'] = (budget_df['profit'] / budget_df['production_budget']) * 100\n",
    "budget_df['release_date'] = pd.to_datetime(budget_df['release_date'])\n",
    "budget_df['release_month'] = budget_df['release_date'].dt.month.astype(int)\n",
    "budget_df['release_year'] = budget_df['release_date'].dt.year.astype(int)"
   ]
  },
  {
   "cell_type": "code",
   "execution_count": 149,
   "id": "f9c26786",
   "metadata": {},
   "outputs": [
    {
     "data": {
      "image/png": "[encoded data removed]",
      "text/plain": [
       "<Figure size 720x432 with 1 Axes>"
      ]
     },
     "metadata": {
      "needs_background": "light"
     },
     "output_type": "display_data"
    }
   ],
   "source": [
    "#Create groupedby month subset and create visualization for monthly worldwide sales \n",
    "\n",
    "month_grouped_df = budget_df.groupby('release_month', axis = 0).median().sort_values('release_month', ascending = True)\n",
    "domestic_median = month_grouped_df['domestic_gross'].median()\n",
    "foreign_median = month_grouped_df['foreign_gross'].median()\n",
    "\n",
    "plt.figure(figsize=(10,6))\n",
    "sns.lineplot(x = month_grouped_df.index, y = 'domestic_gross', data = month_grouped_df, label = 'Domestic')\n",
    "sns.lineplot(x = month_grouped_df.index, y = 'foreign_gross', data = month_grouped_df, label = 'Foreign')\n",
    "plt.axhline(foreign_median, color = 'orange', linestyle = 'dashed')\n",
    "plt.axhline(domestic_median, color = 'b', linestyle = 'dashed')\n",
    "plt.xticks([1,2,3,4,5,6,7,8,9,10,11,12], ['Jan','Feb','Mar','Apr','May','Jun','Jul','Aug','Sep','Oct','Nov','Dec'])\n",
    "plt.xlabel('Release Month')\n",
    "plt.ylabel('Median Gross Box Office Sales ($)')\n",
    "plt.title('Median Gross Box Office Sales by Release Month')\n",
    "plt.legend(loc = 'upper left')\n",
    "plt.savefig('box_office_sales_by_month.png');"
   ]
  },
  {
   "cell_type": "code",
   "execution_count": 143,
   "id": "78a0cf98",
   "metadata": {},
   "outputs": [
    {
     "data": {
      "text/plain": [
       "162.12599438606023"
      ]
     },
     "execution_count": 143,
     "metadata": {},
     "output_type": "execute_result"
    }
   ],
   "source": [
    "#Calculate averge performance over the median for peak months\n",
    "\n",
    "peak_domestic_performance_over_median = ((month_grouped_df['domestic_gross'].loc[[6,7,11]].mean() - domestic_median)/ domestic_median) * 100\n",
    "peak_domestic_performance_over_median\n",
    "\n",
    "peak_foreign_performance_over_median = ((month_grouped_df['foreign_gross'].loc[[6,7,11]].mean() - foreign_median)/ foreign_median) * 100\n",
    "peak_foreign_performance_over_median"
   ]
  },
  {
   "cell_type": "markdown",
   "id": "da2b1fe5",
   "metadata": {},
   "source": [
    "June, July and November are the peak times for releasing a new movie into theaters. Gross domestic sales during these peak months are on average 98% better than the annual median. The same trend holds true for the foreign market with gross sales up 162% over the annual median during peak months. Based on this trend, my recommendation would be for Microsoft to target early summer and November as release dates for their upcoming films. "
   ]
  },
  {
   "cell_type": "code",
   "execution_count": 145,
   "id": "712de25a",
   "metadata": {},
   "outputs": [
    {
     "name": "stdout",
     "output_type": "stream",
     "text": [
      "<class 'pandas.core.frame.DataFrame'>\n",
      "RangeIndex: 5782 entries, 0 to 5781\n",
      "Data columns (total 11 columns):\n",
      " #   Column             Non-Null Count  Dtype         \n",
      "---  ------             --------------  -----         \n",
      " 0   id                 5782 non-null   int64         \n",
      " 1   release_date       5782 non-null   datetime64[ns]\n",
      " 2   movie              5782 non-null   object        \n",
      " 3   production_budget  5782 non-null   int64         \n",
      " 4   domestic_gross     5782 non-null   int64         \n",
      " 5   worldwide_gross    5782 non-null   int64         \n",
      " 6   profit             5782 non-null   int64         \n",
      " 7   release_month      5782 non-null   int64         \n",
      " 8   foreign_gross      5782 non-null   int64         \n",
      " 9   release_year       5782 non-null   int64         \n",
      " 10  ROI                5782 non-null   float64       \n",
      "dtypes: datetime64[ns](1), float64(1), int64(8), object(1)\n",
      "memory usage: 497.0+ KB\n"
     ]
    }
   ],
   "source": [
    "budget_df.info()"
   ]
  },
  {
   "cell_type": "code",
   "execution_count": 146,
   "id": "c9ccd0fd",
   "metadata": {},
   "outputs": [],
   "source": [
    "budget_df.to_csv('budget_df.csv')"
   ]
  },
  {
   "cell_type": "code",
   "execution_count": null,
   "id": "262ffb80",
   "metadata": {},
   "outputs": [],
   "source": []
  }
 ],
 "metadata": {
  "kernelspec": {
   "display_name": "Python (learn-env)",
   "language": "python",
   "name": "learn-env"
  },
  "language_info": {
   "codemirror_mode": {
    "name": "ipython",
    "version": 3
   },
   "file_extension": ".py",
   "mimetype": "text/x-python",
   "name": "python",
   "nbconvert_exporter": "python",
   "pygments_lexer": "ipython3",
   "version": "3.8.5"
  }
 },
 "nbformat": 4,
 "nbformat_minor": 5
}
