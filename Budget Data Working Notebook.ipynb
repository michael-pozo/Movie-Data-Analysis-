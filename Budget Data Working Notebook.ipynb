{
 "cells": [
  {
   "cell_type": "code",
   "execution_count": 1,
   "id": "5cc3d2c2",
   "metadata": {},
   "outputs": [],
   "source": [
    "import pandas as pd\n",
    "import seaborn as sns\n",
    "import matplotlib.pyplot as plt"
   ]
  },
  {
   "cell_type": "code",
   "execution_count": 81,
   "id": "ac2b9d3e",
   "metadata": {},
   "outputs": [],
   "source": [
    "budget_df = pd.read_csv('Phase 1 Project Data/tn.movie_budgets.csv')"
   ]
  },
  {
   "cell_type": "code",
   "execution_count": 58,
   "id": "4c309838",
   "metadata": {
    "scrolled": true
   },
   "outputs": [
    {
     "name": "stdout",
     "output_type": "stream",
     "text": [
      "<class 'pandas.core.frame.DataFrame'>\n",
      "RangeIndex: 5782 entries, 0 to 5781\n",
      "Data columns (total 6 columns):\n",
      " #   Column             Non-Null Count  Dtype \n",
      "---  ------             --------------  ----- \n",
      " 0   id                 5782 non-null   int64 \n",
      " 1   release_date       5782 non-null   object\n",
      " 2   movie              5782 non-null   object\n",
      " 3   production_budget  5782 non-null   object\n",
      " 4   domestic_gross     5782 non-null   object\n",
      " 5   worldwide_gross    5782 non-null   object\n",
      "dtypes: int64(1), object(5)\n",
      "memory usage: 271.2+ KB\n"
     ]
    }
   ],
   "source": [
    "budget_df.info()"
   ]
  },
  {
   "cell_type": "markdown",
   "id": "975b650a",
   "metadata": {},
   "source": [
    "TN seems to be a better dataset compared to BOM since it has more data and has a budget column which will allow you to calculate profit. Also there are no missing values "
   ]
  },
  {
   "cell_type": "code",
   "execution_count": 82,
   "id": "64b35c10",
   "metadata": {},
   "outputs": [],
   "source": [
    "#Convert columns 3-5 into integers.\n",
    "\n",
    "budget_df['production_budget'] = budget_df['production_budget'].str.replace(',','').str.replace('$','').astype(int)\n",
    "budget_df['domestic_gross'] = budget_df['domestic_gross'].str.replace(',','').str.replace('$','').astype(int)\n",
    "budget_df['worldwide_gross'] = budget_df['worldwide_gross'].str.replace(',','').str.replace('$','').astype(int)"
   ]
  },
  {
   "cell_type": "code",
   "execution_count": 83,
   "id": "87fa3454",
   "metadata": {},
   "outputs": [],
   "source": [
    "#Create profit column. Split out month from the release date to be used in visualization. \n",
    "\n",
    "budget_df['profit'] = budget_df['worldwide_gross'] - budget_df['production_budget']\n",
    "budget_df['release_date'] = pd.to_datetime(budget_df['release_date'])\n",
    "budget_df['release_month'] = budget_df['release_date'].dt.month.astype(int)"
   ]
  },
  {
   "cell_type": "code",
   "execution_count": 90,
   "id": "7c513606",
   "metadata": {},
   "outputs": [
    {
     "data": {
      "image/png": "[encoded data removed]",
      "text/plain": [
       "<Figure size 432x288 with 1 Axes>"
      ]
     },
     "metadata": {
      "needs_background": "light"
     },
     "output_type": "display_data"
    }
   ],
   "source": [
    "#Create groupedby month subset and create visualization for monthly worldwide sales \n",
    "\n",
    "month_grouped_df = budget_df.groupby('release_month', axis = 0).median().sort_values('release_month', ascending = True)\n",
    "\n",
    "sns.barplot(x = month_grouped_df.index, y = 'worldwide_gross', data = month_grouped_df);"
   ]
  },
  {
   "cell_type": "code",
   "execution_count": null,
   "id": "75acdadd",
   "metadata": {},
   "outputs": [],
   "source": [
    "sn"
   ]
  }
 ],
 "metadata": {
  "kernelspec": {
   "display_name": "Python (learn-env)",
   "language": "python",
   "name": "learn-env"
  },
  "language_info": {
   "codemirror_mode": {
    "name": "ipython",
    "version": 3
   },
   "file_extension": ".py",
   "mimetype": "text/x-python",
   "name": "python",
   "nbconvert_exporter": "python",
   "pygments_lexer": "ipython3",
   "version": "3.8.5"
  }
 },
 "nbformat": 4,
 "nbformat_minor": 5
}
