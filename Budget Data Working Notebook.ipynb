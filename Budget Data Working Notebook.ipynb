{
 "cells": [
  {
   "cell_type": "code",
   "execution_count": 1,
   "id": "3c871e6b",
   "metadata": {},
   "outputs": [],
   "source": [
    "import pandas as pd\n",
    "import seaborn as sns\n",
    "import matplotlib.pyplot as plt"
   ]
  },
  {
   "cell_type": "code",
   "execution_count": 57,
   "id": "e2c0e9ab",
   "metadata": {},
   "outputs": [],
   "source": [
    "budget_df = pd.read_csv('Phase 1 Project Data/tn.movie_budgets.csv')"
   ]
  },
  {
   "cell_type": "code",
   "execution_count": 58,
   "id": "68711486",
   "metadata": {
    "scrolled": true
   },
   "outputs": [
    {
     "name": "stdout",
     "output_type": "stream",
     "text": [
      "<class 'pandas.core.frame.DataFrame'>\n",
      "RangeIndex: 5782 entries, 0 to 5781\n",
      "Data columns (total 6 columns):\n",
      " #   Column             Non-Null Count  Dtype \n",
      "---  ------             --------------  ----- \n",
      " 0   id                 5782 non-null   int64 \n",
      " 1   release_date       5782 non-null   object\n",
      " 2   movie              5782 non-null   object\n",
      " 3   production_budget  5782 non-null   object\n",
      " 4   domestic_gross     5782 non-null   object\n",
      " 5   worldwide_gross    5782 non-null   object\n",
      "dtypes: int64(1), object(5)\n",
      "memory usage: 271.2+ KB\n"
     ]
    }
   ],
   "source": [
    "budget_df.info()"
   ]
  },
  {
   "cell_type": "markdown",
   "id": "d9bc2d17",
   "metadata": {},
   "source": [
    "TN seems to be a better dataset compared to BOM since it has more data and has a budget column which will allow you to calculate profit. Also there are no missing values "
   ]
  },
  {
   "cell_type": "code",
   "execution_count": 59,
   "id": "b96eb994",
   "metadata": {},
   "outputs": [],
   "source": [
    "#Convert columns 3-5 into integers. Create profit column\n",
    "\n",
    "budget_df['production_budget'] = budget_df['production_budget'].str.replace(',','').str.replace('$','').astype(int)\n",
    "budget_df['domestic_gross'] = budget_df['domestic_gross'].str.replace(',','').str.replace('$','').astype(int)\n",
    "budget_df['worldwide_gross'] = budget_df['worldwide_gross'].str.replace(',','').str.replace('$','').astype(int)"
   ]
  },
  {
   "cell_type": "code",
   "execution_count": 67,
   "id": "bc7509cb",
   "metadata": {},
   "outputs": [
    {
     "ename": "SyntaxError",
     "evalue": "unexpected EOF while parsing (<ipython-input-67-cd2bec3e99cd>, line 5)",
     "output_type": "error",
     "traceback": [
      "\u001b[0;36m  File \u001b[0;32m\"<ipython-input-67-cd2bec3e99cd>\"\u001b[0;36m, line \u001b[0;32m5\u001b[0m\n\u001b[0;31m    budget_df['quarter'] = budget_df['release_month'].apply(lambda x: ('Q1' if x in [1, 2, 3] else 'Q2') ('Q2' if x in [4, 5, 6] else 'Q3') ('Q3' if x in [7,8,9] else 'Q4') ('Q4' if x in [10, 11, 12] else 'Q1')\u001b[0m\n\u001b[0m                                                                                                                                                                                                                    ^\u001b[0m\n\u001b[0;31mSyntaxError\u001b[0m\u001b[0;31m:\u001b[0m unexpected EOF while parsing\n"
     ]
    }
   ],
   "source": [
    "#create profit. Split out month from the release date. Create season\n",
    "budget_df['profit'] = budget_df['worldwide_gross'] - budget_df['production_budget']\n",
    "budget_df['release_date'] = pd.to_datetime(budget_df['release_date'])\n",
    "budget_df['release_month'] = budget_df['release_date'].dt.month\n",
    "budget_df['quarter'] = budget_df['release_month'].apply(lambda x:"
   ]
  },
  {
   "cell_type": "code",
   "execution_count": 63,
   "id": "fc76e414",
   "metadata": {},
   "outputs": [
    {
     "data": {
      "text/plain": [
       "12    745\n",
       "10    573\n",
       "8     496\n",
       "9     493\n",
       "11    486\n",
       "6     479\n",
       "3     470\n",
       "4     454\n",
       "7     440\n",
       "5     407\n",
       "2     392\n",
       "1     347\n",
       "Name: release_month, dtype: int64"
      ]
     },
     "execution_count": 63,
     "metadata": {},
     "output_type": "execute_result"
    }
   ],
   "source": []
  },
  {
   "cell_type": "code",
   "execution_count": null,
   "id": "1fbe6cbe",
   "metadata": {},
   "outputs": [],
   "source": []
  }
 ],
 "metadata": {
  "kernelspec": {
   "display_name": "Python (learn-env)",
   "language": "python",
   "name": "learn-env"
  },
  "language_info": {
   "codemirror_mode": {
    "name": "ipython",
    "version": 3
   },
   "file_extension": ".py",
   "mimetype": "text/x-python",
   "name": "python",
   "nbconvert_exporter": "python",
   "pygments_lexer": "ipython3",
   "version": "3.8.5"
  }
 },
 "nbformat": 4,
 "nbformat_minor": 5
}
